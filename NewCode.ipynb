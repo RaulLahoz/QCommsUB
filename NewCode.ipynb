{
 "cells": [
  {
   "cell_type": "markdown",
   "metadata": {},
   "source": [
    "# Programa para la adquisición de datos en 4 canales simultáneamente\n",
    "\n",
    "Información sobre inicializar el sistema y toma de datos en https://digilent.com/reference/test-and-measurement/guides/waveforms-sdk-getting-started.\n",
    "\n",
    "* Sección 1: Importing the Constants and Loading the Dynamic Library.\n",
    "* Sección 2: Connecting the Test & Measurement Device.\n",
    "* Seccion 3.5.1: Initialize the Logic Analyzer.\n",
    "* Sección 3.5.2: Record Logic Signals.\n",
    "* Sección 3.5.3: Reset the Logic Analyzer.\n",
    "\n",
    "Pequeñas variaciones han sido incluidas para poder tomar adqusición simultánea en varios canales (en concreto, en los canales 1, 2, 14 y 15)."
   ]
  },
  {
   "cell_type": "markdown",
   "metadata": {},
   "source": [
    "### Import libraries"
   ]
  },
  {
   "cell_type": "code",
   "execution_count": 129,
   "metadata": {},
   "outputs": [],
   "source": [
    "from ctypes import (cdll, c_int, c_double, c_ubyte, byref, create_string_buffer,\n",
    "                    c_uint16)                # import the C compatible data types\n",
    "from sys import platform, path    # this is needed to check the OS type and get the PATH\n",
    "from os import sep   # OS specific file path separators\n",
    "import ctypes\n",
    "import numpy as np\n",
    "import time\n",
    " \n",
    "# load the dynamic library, get constants path (the path is OS specific)\n",
    "if platform.startswith(\"win\"):\n",
    "    # on Windows\n",
    "    dwf = ctypes.cdll.dwf\n",
    "    constants_path = \"C:\" + sep + \"Program Files (x86)\" + sep + \"Digilent\" + sep + \"WaveFormsSDK\" + sep + \"samples\" + sep + \"py\"\n",
    "elif platform.startswith(\"darwin\"):\n",
    "    # on macOS\n",
    "    lib_path = sep + \"Library\" + sep + \"Frameworks\" + sep + \"dwf.framework\" + sep + \"dwf\"\n",
    "    dwf = ctypes.cdll.LoadLibrary(lib_path)\n",
    "    constants_path = sep + \"Applications\" + sep + \"WaveForms.app\" + sep + \"Contents\" + sep + \"Resources\" + sep + \"SDK\" + sep + \"samples\" + sep + \"py\"\n",
    "else:\n",
    "    # on Linux\n",
    "    dwf = ctypes.cdll.LoadLibrary(\"libdwf.so\")\n",
    "    constants_path = sep + \"usr\" + sep + \"share\" + sep + \"digilent\" + sep + \"waveforms\" + sep + \"samples\" + sep + \"py\"\n",
    " \n",
    "# import constants\n",
    "path.append(constants_path)\n",
    "import dwfconstants as constants"
   ]
  },
  {
   "cell_type": "markdown",
   "metadata": {},
   "source": [
    "### Open and init device"
   ]
  },
  {
   "cell_type": "code",
   "execution_count": 130,
   "metadata": {},
   "outputs": [],
   "source": [
    "class device_data:\n",
    "    \"\"\"\n",
    "        stores the device handle and the device name\n",
    "    \"\"\"\n",
    "    handle = ctypes.c_int(0)\n",
    "    name = \"\"\n",
    " \n",
    "def initialize_device():\n",
    "    \"\"\"\n",
    "        initialize_device the first available device\n",
    "    \"\"\"\n",
    "    # handle for the digilent device\n",
    "    hdwf = c_int()\n",
    "\n",
    "    # print DWF version\n",
    "    version = create_string_buffer(14)\n",
    "    dwf.FDwfGetVersion(version)\n",
    "    print(\"DWF Version: \"+version.value.decode(\"utf-8\"))\n",
    "\n",
    "    # initialize_device device\n",
    "    print(\"Opening first device\")\n",
    "    dwf.FDwfDeviceOpen(c_int(-1), byref(hdwf))\n",
    "\n",
    "    # check if device is initialize_device\n",
    "    if hdwf.value == 0:\n",
    "        print(\"Failed to initialize_device device\")\n",
    "        szerr = create_string_buffer(512)\n",
    "        dwf.FDwfGetLastErrorMsg(szerr)\n",
    "        print(szerr.value.decode(\"utf-8\"))\n",
    "        assert False\n",
    "        \n",
    "    device_data.handle = hdwf"
   ]
  },
  {
   "cell_type": "code",
   "execution_count": 145,
   "metadata": {},
   "outputs": [],
   "source": [
    "samp_freq = 1e9\n",
    "\n",
    "class data:\n",
    "    \"\"\" stores the sampling frequency and the buffer size \"\"\"\n",
    "    sampling_frequency = samp_freq # Si se cambia, cambiar también en la función open_logic\n",
    "    buffer_size = 8192*2\n",
    " \n",
    "def open_logic(device_data, sampling_frequency=samp_freq):\n",
    "    \"\"\"\n",
    "        initialize the logic analyzer\n",
    "        parameters: - device data\n",
    "                    - sampling frequency in Hz, default is 100MHz\n",
    "                    - buffer size, default is 4096\n",
    "    \"\"\"\n",
    "    # get internal clock frequency\n",
    "    internal_frequency = ctypes.c_double()\n",
    "    dwf.FDwfDigitalInInternalClockInfo(device_data.handle, ctypes.byref(internal_frequency))\n",
    " \n",
    "    # set clock frequency divider (needed for lower frequency input signals)\n",
    "    dwf.FDwfDigitalInDividerSet(device_data.handle, ctypes.c_int(int(internal_frequency.value / sampling_frequency)))\n",
    " \n",
    "    # set 16-bit sample format\n",
    "    dwf.FDwfDigitalInSampleFormatSet(device_data.handle, ctypes.c_int(16))\n",
    "    \n",
    "    # configure channels to read\n",
    "    dwf.FDwfDigitalInConfigure(device_data.handle, c_int(0), c_int(1), c_int(14), c_int(15))\n",
    " \n",
    "    buffer_size = c_int()\n",
    "    dwf.FDwfDigitalInBufferSizeInfo(device_data.handle, ctypes.byref(buffer_size))\n",
    "    \n",
    "    # set buffer size\n",
    "    dwf.FDwfDigitalInBufferSizeSet(device_data.handle, buffer_size)\n",
    "    data.sampling_frequency = sampling_frequency\n",
    "    data.buffer_size = buffer_size.value // 2\n",
    "    return"
   ]
  },
  {
   "cell_type": "markdown",
   "metadata": {},
   "source": [
    "### Obtención de datos"
   ]
  },
  {
   "cell_type": "code",
   "execution_count": 146,
   "metadata": {},
   "outputs": [],
   "source": [
    "import numpy as np\n",
    "\n",
    "buffer = 0\n",
    "\n",
    "def record(device_data):\n",
    "    \"\"\"\n",
    "        initialize the logic analyzer\n",
    "        parameters: - device data\n",
    "                    - channel - the selected DIO line number\n",
    "        returns:    - buffer - a list with the recorded logic values\n",
    "                    - time - a list with the time moments for each value in seconds (with the same index as \"buffer\")\n",
    "    \"\"\"\n",
    "    # set up the instrument\n",
    "    #dwf.FDwfDigitalInConfigure(device_data.handle, ctypes.c_bool(False), ctypes.c_bool(True))\n",
    " \n",
    "    # read data to an internal buffer\n",
    "    while True:\n",
    "        status = ctypes.c_byte()    # variable to store buffer status\n",
    "        dwf.FDwfDigitalInStatus(device_data.handle, ctypes.c_bool(True), ctypes.byref(status))\n",
    " \n",
    "        if status.value == constants.stsDone.value:\n",
    "            # exit loop when finished\n",
    "            break\n",
    " \n",
    "    buffer_len = data.buffer_size * 2\n",
    "    # get samples\n",
    "    buffer = (ctypes.c_uint16 * buffer_len)()\n",
    "    dwf.FDwfDigitalInStatusData(device_data.handle, buffer, ctypes.c_int(buffer_len))\n",
    "    \n",
    "    buffer = np.array([int(element) for element in buffer])\n",
    "    \n",
    "    return buffer\n",
    "    \n",
    " \n",
    "    \"\"\"\n",
    "    # convert buffer to list of lists of integers\n",
    "    buffer = [int(element) for element in buffer]\n",
    "    result = [[] for _ in range(16)]\n",
    "    for point in buffer:\n",
    "        for index in range(16):\n",
    "            result[index].append(point & (1 << index))\n",
    "            \n",
    "    print(buffer)\n",
    " \n",
    "    # calculate acquisition time\n",
    "    time = range(0, data.buffer_size)\n",
    "    time = [moment / data.sampling_frequency for moment in time]\n",
    " \n",
    "    # get channel specific data\n",
    "    buffer = [result[channel_1], result[channel_2], result[channel_3], result[channel_4]]\n",
    "    \"\"\""
   ]
  },
  {
   "cell_type": "markdown",
   "metadata": {},
   "source": [
    "## Tomamos tan solo un buffer de datos de longitud max_len"
   ]
  },
  {
   "cell_type": "code",
   "execution_count": 147,
   "metadata": {},
   "outputs": [
    {
     "name": "stdout",
     "output_type": "stream",
     "text": [
      "DWF Version: 3.22.1\n",
      "Opening first device\n"
     ]
    },
    {
     "data": {
      "text/plain": [
       "1"
      ]
     },
     "execution_count": 147,
     "metadata": {},
     "output_type": "execute_result"
    }
   ],
   "source": [
    "# Inicializamos el osciloscopio\n",
    "initialize_device()\n",
    "open_logic(device_data)\n",
    "\n",
    "datam = record(device_data)\n",
    "\n",
    "# Apagamos el osciloscopio\n",
    "dwf.FDwfDeviceClose(device_data.handle) "
   ]
  },
  {
   "cell_type": "markdown",
   "metadata": {},
   "source": [
    "## Tomamos varios buffers en un bucle"
   ]
  },
  {
   "cell_type": "code",
   "execution_count": 148,
   "metadata": {},
   "outputs": [
    {
     "name": "stdout",
     "output_type": "stream",
     "text": [
      "DWF Version: 3.22.1\n",
      "Opening first device\n",
      "Contador:  25\n"
     ]
    }
   ],
   "source": [
    "# Inicializamos el osciloscopioÇ\n",
    "initialize_device()\n",
    "open_logic(device_data)\n",
    "\n",
    "start = time.time()\n",
    "stop_time = 5\n",
    "\n",
    "contador = 0 # La variable contador dará el número de veces que hemos tomado datos\n",
    "datam = np.zeros(0) # Inicializamos la variable en la que guardaremos todos los datso durante el bucle\n",
    "\n",
    "while (time.time() - start) < stop_time:\n",
    "    \n",
    "    datam = np.append(datam, record(device_data))\n",
    "    contador += 1 # Sumamos un 1 cada vez que tomamos datos\n",
    "\n",
    "#Convertimos el array 'datam' a datos del tipi int\n",
    "datam = datam.astype(int)\n",
    "\n",
    "# Apagamos el osciloscopio\n",
    "dwf.FDwfDeviceClose(device_data.handle) \n",
    "print(\"Contador: \", contador)"
   ]
  },
  {
   "cell_type": "code",
   "execution_count": 149,
   "metadata": {},
   "outputs": [
    {
     "name": "stdout",
     "output_type": "stream",
     "text": [
      "25000000\n",
      "<class 'numpy.ndarray'>\n",
      "2\n"
     ]
    }
   ],
   "source": [
    "print(len(datam))\n",
    "print(type(datam))\n",
    "print(datam[30500])"
   ]
  },
  {
   "cell_type": "code",
   "execution_count": 150,
   "metadata": {},
   "outputs": [
    {
     "data": {
      "text/plain": [
       "0"
      ]
     },
     "execution_count": 150,
     "metadata": {},
     "output_type": "execute_result"
    }
   ],
   "source": [
    "dwf.FDwfDeviceClose(device_data.handle) # Apagamos el osciloscopio"
   ]
  },
  {
   "cell_type": "code",
   "execution_count": 151,
   "metadata": {},
   "outputs": [
    {
     "data": {
      "text/plain": [
       "11347324"
      ]
     },
     "execution_count": 151,
     "metadata": {},
     "output_type": "execute_result"
    }
   ],
   "source": [
    "len(datam[datam != 0])"
   ]
  },
  {
   "cell_type": "code",
   "execution_count": 152,
   "metadata": {},
   "outputs": [],
   "source": [
    "channel_15 = (datam >> 15) & 1\n",
    "channel_14 = (datam >> 14) & 1\n",
    "channel_13 = (datam >> 13) & 1\n",
    "channel_12 = (datam >> 12) & 1\n",
    "channel_11 = (datam >> 11) & 1\n",
    "channel_10 = (datam >> 10) & 1\n",
    "channel_9 = (datam >> 9) & 1\n",
    "channel_8 = (datam >> 8) & 1\n",
    "channel_7 = (datam >> 7) & 1\n",
    "channel_6 = (datam >> 6) & 1\n",
    "channel_5 = (datam >> 5) & 1\n",
    "channel_4 = (datam >> 4) & 1\n",
    "channel_3 = (datam >> 3) & 1\n",
    "channel_2 = (datam >> 2) & 1\n",
    "channel_1 = (datam >> 1) & 1\n",
    "channel_0 = (datam >> 0) & 1"
   ]
  },
  {
   "cell_type": "code",
   "execution_count": 153,
   "metadata": {},
   "outputs": [],
   "source": [
    "# Asegurándonos de que todos los arrays tengan la misma longitud\n",
    "length = len(channel_0)\n",
    "for i in range(1, 16):\n",
    "    assert len(eval(f'channel_{i}')) == length, f\"El array channel_{i} no tiene la misma longitud que channel_0\"\n",
    "\n",
    "# Creando una matriz con todas las columnas\n",
    "#data = np.column_stack((channel_0, channel_1, channel_2, channel_3, channel_4, channel_5, channel_6, channel_7, channel_8, channel_9, channel_10, channel_11, channel_12, channel_13, channel_14, channel_15))\n",
    "\n",
    "# Guardando la matriz en un archivo de texto\n",
    "#np.savetxt('channels_data.txt', data, fmt='%d', delimiter='\\t')"
   ]
  },
  {
   "cell_type": "code",
   "execution_count": 154,
   "metadata": {},
   "outputs": [],
   "source": [
    "counts_channel_15 = sum((channel_15[1:] == 1) & (channel_15[:-1] == 0)) # Calculamos cuentas canal 15\n",
    "counts_channel_14 = sum((channel_14[1:] == 1) & (channel_14[:-1] == 0)) # Calculamos cuentas canal 14\n",
    "counts_channel_13 = sum((channel_13[1:] == 1) & (channel_13[:-1] == 0)) # Calculamos cuentas canal 13\n",
    "counts_channel_12 = sum((channel_12[1:] == 1) & (channel_12[:-1] == 0)) # Calculamos cuentas canal 12\n",
    "counts_channel_11 = sum((channel_11[1:] == 1) & (channel_11[:-1] == 0)) # Calculamos cuentas canal 11\n",
    "counts_channel_10 = sum((channel_10[1:] == 1) & (channel_10[:-1] == 0)) # Calculamos cuentas canal 10\n",
    "counts_channel_9 = sum((channel_9[1:] == 1) & (channel_9[:-1] == 0)) # Calculamos cuentas canal 9\n",
    "counts_channel_8 = sum((channel_8[1:] == 1) & (channel_8[:-1] == 0)) # Calculamos cuentas canal 8\n",
    "counts_channel_7 = sum((channel_7[1:] == 1) & (channel_7[:-1] == 0)) # Calculamos cuentas canal 7\n",
    "counts_channel_6 = sum((channel_6[1:] == 1) & (channel_6[:-1] == 0)) # Calculamos cuentas canal 6\n",
    "counts_channel_5 = sum((channel_5[1:] == 1) & (channel_5[:-1] == 0)) # Calculamos cuentas canal 5\n",
    "counts_channel_4 = sum((channel_4[1:] == 1) & (channel_4[:-1] == 0)) # Calculamos cuentas canal 4\n",
    "counts_channel_3 = sum((channel_3[1:] == 1) & (channel_3[:-1] == 0)) # Calculamos cuentas canal 3\n",
    "counts_channel_2 = sum((channel_2[1:] == 1) & (channel_2[:-1] == 0)) # Calculamos cuentas canal 2\n",
    "counts_channel_1 = sum((channel_1[1:] == 1) & (channel_1[:-1] == 0)) # Calculamos cuentas canal 1\n",
    "counts_channel_0 = sum((channel_0[1:] == 1) & (channel_0[:-1] == 0)) # Calculamos cuentas canal 0"
   ]
  },
  {
   "cell_type": "code",
   "execution_count": 155,
   "metadata": {},
   "outputs": [
    {
     "name": "stdout",
     "output_type": "stream",
     "text": [
      "Transiciones de 0 a 1 en las posiciones: [      26      108      191 ... 24032591 24032677 24032760]\n",
      "0\n",
      "9179\n",
      "9062\n",
      "66301\n"
     ]
    }
   ],
   "source": [
    "# Encuentra las posiciones donde hay una transición de 0 a 1\n",
    "transitions_15 = np.where((channel_15[1:] == 1) & (channel_15[:-1] == 0))[0] + 1\n",
    "transitions_14 = np.where((channel_14[1:] == 1) & (channel_14[:-1] == 0))[0] + 1\n",
    "transitions_1 = np.where((channel_1[1:] == 1) & (channel_1[:-1] == 0))[0] + 1\n",
    "transitions_0 = np.where((channel_0[1:] == 1) & (channel_0[:-1] == 0))[0] + 1\n",
    "\n",
    "# Imprime las posiciones\n",
    "print(\"Transiciones de 0 a 1 en las posiciones:\", transitions_1)\n",
    "\n",
    "#No hay cuentas en según qué periodos... parece que sólo toma bien datos al principio de cada buffer.\n",
    "\n",
    "# Desde el indice 1032768 hasta el 2000000, hay una gran ristra de unos en el canal 15.\n",
    "print(sum(channel_15[1032768:2000000]))\n",
    "print(sum(channel_15[0:90000]))\n",
    "\n",
    "# Desde el indice 5000000 hasta el 6000000, hay una gran ristra de unos en el canal 1.\n",
    "print(sum(channel_1[5000000:6000000]))\n",
    "print(sum(channel_1[0:90000]))\n",
    "\n",
    "# Esto os hace ver que obviamente algo va mal, pero lo mas sormprentente es que durante este tiempo, no se produce ninguna cuenta."
   ]
  },
  {
   "cell_type": "code",
   "execution_count": 156,
   "metadata": {},
   "outputs": [
    {
     "data": {
      "image/png": "[encoded data removed]",
      "text/plain": [
       "<Figure size 1000x600 with 1 Axes>"
      ]
     },
     "metadata": {},
     "output_type": "display_data"
    }
   ],
   "source": [
    "import matplotlib.pyplot as plt\n",
    "\n",
    "# Crear la gráfica\n",
    "plt.figure(figsize=(10, 6))\n",
    "\n",
    "# Graficar los puntos de transición\n",
    "plt.scatter(transitions_15, [15]*len(transitions_15), label='Channel 15')\n",
    "plt.scatter(transitions_14, [14]*len(transitions_14), label='Channel 14')\n",
    "plt.scatter(transitions_1, [1]*len(transitions_1), label='Channel 1')\n",
    "plt.scatter(transitions_0, [0]*len(transitions_0), label='Channel 0')\n",
    "\n",
    "# Configuración de la escala logarítmica en el eje x\n",
    "plt.xscale('linear')\n",
    "#plt.xlim(3000000, 3050000)\n",
    "plt.yscale('linear')\n",
    "\n",
    "# Etiquetas y leyenda\n",
    "plt.xlabel('Índices')\n",
    "plt.ylabel('Canales')\n",
    "plt.title('Transiciones en los Canales')\n",
    "plt.legend()\n",
    "plt.grid(True, which='both', linestyle='--', linewidth=0.5)\n",
    "\n",
    "# Mostrar la gráfica\n",
    "plt.show()"
   ]
  },
  {
   "cell_type": "code",
   "execution_count": 100,
   "metadata": {},
   "outputs": [
    {
     "name": "stdout",
     "output_type": "stream",
     "text": [
      "0\n",
      "0\n",
      "0\n",
      "0\n",
      "13000000\n"
     ]
    }
   ],
   "source": [
    "print(sum(channel_0))\n",
    "print(sum(channel_1))\n",
    "print(sum(channel_14))\n",
    "print(sum(channel_15))\n",
    "print(sum(channel_13))\n"
   ]
  },
  {
   "cell_type": "code",
   "execution_count": 101,
   "metadata": {},
   "outputs": [
    {
     "name": "stdout",
     "output_type": "stream",
     "text": [
      "Cuentas canal 0:  0\n",
      "Cuentas canal 1:  0\n",
      "Cuentas canal 2:  0\n",
      "Cuentas canal 3:  0\n",
      "Cuentas canal 4:  0\n",
      "Cuentas canal 5:  0\n",
      "Cuentas canal 6:  0\n",
      "Cuentas canal 7:  0\n",
      "Cuentas canal 8:  0\n",
      "Cuentas canal 9:  0\n",
      "Cuentas canal 10:  0\n",
      "Cuentas canal 11:  0\n",
      "Cuentas canal 12:  0\n",
      "Cuentas canal 13:  25\n",
      "Cuentas canal 14:  0\n",
      "Cuentas canal 15:  0\n"
     ]
    }
   ],
   "source": [
    "print(\"Cuentas canal 0: \", counts_channel_0)\n",
    "print(\"Cuentas canal 1: \", counts_channel_1)\n",
    "print(\"Cuentas canal 2: \", counts_channel_2)\n",
    "print(\"Cuentas canal 3: \", counts_channel_3)\n",
    "print(\"Cuentas canal 4: \", counts_channel_4)\n",
    "print(\"Cuentas canal 5: \", counts_channel_5)\n",
    "print(\"Cuentas canal 6: \", counts_channel_6)\n",
    "print(\"Cuentas canal 7: \", counts_channel_7)\n",
    "print(\"Cuentas canal 8: \", counts_channel_8)\n",
    "print(\"Cuentas canal 9: \", counts_channel_9)\n",
    "print(\"Cuentas canal 10: \", counts_channel_10)\n",
    "print(\"Cuentas canal 11: \", counts_channel_11)\n",
    "print(\"Cuentas canal 12: \", counts_channel_12)\n",
    "print(\"Cuentas canal 13: \", counts_channel_13)\n",
    "print(\"Cuentas canal 14: \", counts_channel_14)\n",
    "print(\"Cuentas canal 15: \", counts_channel_15)"
   ]
  },
  {
   "cell_type": "code",
   "execution_count": 102,
   "metadata": {},
   "outputs": [],
   "source": [
    "coincidence_15_0 = channel_15 & channel_0\n",
    "C_15_0 = sum((coincidence_15_0[1:] == 1) & (coincidence_15_0[:-1] == 0))\n",
    "\n",
    "coincidence_14_0 = channel_14 & channel_0\n",
    "C_14_0 = sum((coincidence_14_0[1:] == 1) & (coincidence_14_0[:-1] == 0))\n",
    "\n",
    "coincidence_15_1 = channel_15 & channel_1\n",
    "C_15_1 = sum((coincidence_15_1[1:] == 1) & (coincidence_15_1[:-1] == 0))\n",
    "\n",
    "coincidence_14_1 = channel_14 & channel_1\n",
    "C_14_1 = sum((coincidence_14_1[1:] == 1) & (coincidence_14_1[:-1] == 0))"
   ]
  },
  {
   "cell_type": "code",
   "execution_count": 103,
   "metadata": {},
   "outputs": [
    {
     "name": "stdout",
     "output_type": "stream",
     "text": [
      "Coincidences 15_0:  0\n",
      "Coincidences 14-0:  0\n",
      "Coincidences 15-1:  0\n",
      "Coincidences 14-1:  0\n"
     ]
    }
   ],
   "source": [
    "print(\"Coincidences 15_0: \", C_15_0)\n",
    "print(\"Coincidences 14-0: \", C_14_0)\n",
    "print(\"Coincidences 15-1: \", C_15_1)\n",
    "print(\"Coincidences 14-1: \", C_14_1)"
   ]
  },
  {
   "cell_type": "code",
   "execution_count": null,
   "metadata": {},
   "outputs": [],
   "source": []
  }
 ],
 "metadata": {
  "kernelspec": {
   "display_name": "base",
   "language": "python",
   "name": "python3"
  },
  "language_info": {
   "codemirror_mode": {
    "name": "ipython",
    "version": 3
   },
   "file_extension": ".py",
   "mimetype": "text/x-python",
   "name": "python",
   "nbconvert_exporter": "python",
   "pygments_lexer": "ipython3",
   "version": "3.11.5"
  }
 },
 "nbformat": 4,
 "nbformat_minor": 2
}
